{
  "nbformat": 4,
  "nbformat_minor": 0,
  "metadata": {
    "colab": {
      "name": "LDADanmu.ipynb",
      "provenance": [],
      "collapsed_sections": []
    },
    "kernelspec": {
      "name": "python3",
      "display_name": "Python 3"
    }
  },
  "cells": [
    {
      "cell_type": "code",
      "metadata": {
        "id": "svKtJKnmLDpd",
        "colab_type": "code",
        "outputId": "9451ae20-efbe-439f-f7bd-f42137f1986f",
        "colab": {
          "base_uri": "https://localhost:8080/",
          "height": 215
        }
      },
      "source": [
        "f = open (r'/content/drive/My Drive/danmu_data/filtered_source_train.txt','r')\n",
        "originalText = f.readlines()\n",
        "for line in originalText:\n",
        "    print(line)"
      ],
      "execution_count": 0,
      "outputs": [
        {
          "output_type": "error",
          "ename": "FileNotFoundError",
          "evalue": "ignored",
          "traceback": [
            "\u001b[0;31m---------------------------------------------------------------------------\u001b[0m",
            "\u001b[0;31mFileNotFoundError\u001b[0m                         Traceback (most recent call last)",
            "\u001b[0;32m<ipython-input-1-b373e9c1e090>\u001b[0m in \u001b[0;36m<module>\u001b[0;34m()\u001b[0m\n\u001b[0;32m----> 1\u001b[0;31m \u001b[0mf\u001b[0m \u001b[0;34m=\u001b[0m \u001b[0mopen\u001b[0m \u001b[0;34m(\u001b[0m\u001b[0;34mr'/content/drive/My Drive/danmu_data/filtered_source_train.txt'\u001b[0m\u001b[0;34m,\u001b[0m\u001b[0;34m'r'\u001b[0m\u001b[0;34m)\u001b[0m\u001b[0;34m\u001b[0m\u001b[0;34m\u001b[0m\u001b[0m\n\u001b[0m\u001b[1;32m      2\u001b[0m \u001b[0moriginalText\u001b[0m \u001b[0;34m=\u001b[0m \u001b[0mf\u001b[0m\u001b[0;34m.\u001b[0m\u001b[0mreadlines\u001b[0m\u001b[0;34m(\u001b[0m\u001b[0;34m)\u001b[0m\u001b[0;34m\u001b[0m\u001b[0;34m\u001b[0m\u001b[0m\n\u001b[1;32m      3\u001b[0m \u001b[0;32mfor\u001b[0m \u001b[0mline\u001b[0m \u001b[0;32min\u001b[0m \u001b[0moriginalText\u001b[0m\u001b[0;34m:\u001b[0m\u001b[0;34m\u001b[0m\u001b[0;34m\u001b[0m\u001b[0m\n\u001b[1;32m      4\u001b[0m     \u001b[0mprint\u001b[0m\u001b[0;34m(\u001b[0m\u001b[0mline\u001b[0m\u001b[0;34m)\u001b[0m\u001b[0;34m\u001b[0m\u001b[0;34m\u001b[0m\u001b[0m\n",
            "\u001b[0;31mFileNotFoundError\u001b[0m: [Errno 2] No such file or directory: '/content/drive/My Drive/danmu_data/filtered_source_train.txt'"
          ]
        }
      ]
    },
    {
      "cell_type": "markdown",
      "metadata": {
        "id": "eTcczr1vXEvl",
        "colab_type": "text"
      },
      "source": [
        ""
      ]
    },
    {
      "cell_type": "code",
      "metadata": {
        "id": "tS_D8zu6w2KF",
        "colab_type": "code",
        "colab": {}
      },
      "source": [
        ""
      ],
      "execution_count": 0,
      "outputs": []
    },
    {
      "cell_type": "code",
      "metadata": {
        "id": "qxnrEI20ZcXZ",
        "colab_type": "code",
        "colab": {}
      },
      "source": [
        "import numpy as np\n",
        "from gensim import corpora, models, similarities\n",
        "from pprint import pprint\n",
        "import time\n",
        "import matplotlib as mpl\n",
        "import matplotlib.pyplot as plt\n",
        "import re\n",
        "import pandas as pd\n",
        "import jieba"
      ],
      "execution_count": 0,
      "outputs": []
    },
    {
      "cell_type": "code",
      "metadata": {
        "id": "JtsWOsaVbTzM",
        "colab_type": "code",
        "colab": {}
      },
      "source": [
        "for line in originalText:\n",
        "  line = line.replace('\\n', ' ')\n",
        "  line=' '.join(line.split())\n",
        "  line.rstrip('\\n')\n"
      ],
      "execution_count": 0,
      "outputs": []
    },
    {
      "cell_type": "code",
      "metadata": {
        "id": "CRMqrRMpM64b",
        "colab_type": "code",
        "colab": {}
      },
      "source": [
        "for line in originalText:\n",
        "  line=line[:-1]"
      ],
      "execution_count": 0,
      "outputs": []
    },
    {
      "cell_type": "code",
      "metadata": {
        "id": "_mQKX_gwk-Db",
        "colab_type": "code",
        "colab": {}
      },
      "source": [
        "originalText"
      ],
      "execution_count": 0,
      "outputs": []
    },
    {
      "cell_type": "code",
      "metadata": {
        "id": "P6VbkmFId3cJ",
        "colab_type": "code",
        "colab": {}
      },
      "source": [
        "# texts = []\n",
        "# for info in originalText:\n",
        "#         texts.append(info.split(' '))"
      ],
      "execution_count": 0,
      "outputs": []
    },
    {
      "cell_type": "code",
      "metadata": {
        "id": "ZQ9jBWy3evDT",
        "colab_type": "code",
        "colab": {}
      },
      "source": [
        "# M = len(texts)"
      ],
      "execution_count": 0,
      "outputs": []
    },
    {
      "cell_type": "code",
      "metadata": {
        "id": "Jr9r89q-rfmA",
        "colab_type": "code",
        "colab": {}
      },
      "source": [
        "filterLineFeed = []"
      ],
      "execution_count": 0,
      "outputs": []
    },
    {
      "cell_type": "code",
      "metadata": {
        "id": "pEp23FzapE9V",
        "colab_type": "code",
        "colab": {}
      },
      "source": [
        "filterLineFeed = [x[:-1].split() for x in originalText]"
      ],
      "execution_count": 0,
      "outputs": []
    },
    {
      "cell_type": "code",
      "metadata": {
        "id": "_K0wl5AEqeOw",
        "colab_type": "code",
        "outputId": "af7bf39b-a570-4b41-8aac-f45c1ab39d5b",
        "colab": {
          "base_uri": "https://localhost:8080/",
          "height": 54
        }
      },
      "source": [
        "print(filterLineFeed[:15])"
      ],
      "execution_count": 0,
      "outputs": [
        {
          "output_type": "stream",
          "text": [
            "[['正片', '1', '分', '33', '不说', '心哥', '这个', '视频', '我', '看', '了', '七八遍', '了', '(', '手动', '滑稽', ')', 'lyx', '我', '知道', '你', '在', '看', '总计', '60', '万', '土八路'], ['观看', 'x44', '不说', '心哥', '这个', '视频', '我', '看', '了', '七八遍', '了', '(', '手动', '滑稽', ')', '土八路', '正片', '1', '分', '33', '总计', '60', '万'], ['不说', '心哥', '这个', '视频', '我', '看', '了', '七八遍', '了', '(', '手动', '滑稽', ')', '正片', '1', '分', '33', '土八路', '总计', '60', '万', '观看', 'x44'], ['观看', 'x44', '土八路', 'lyx', '我', '知道', '你', '在', '看', '正片', '1', '分', '33', '土八路', '!'], ['不说', '心哥', '这个', '视频', '我', '看', '了', '七八遍', '了', '(', '手动', '滑稽', ')', '观看', 'x44', '总计', '60', '万', '土八路', '正片', '1', '分', '33'], ['土八路', '不说', '心哥', '这个', '视频', '我', '看', '了', '七八遍', '了', '(', '手动', '滑稽', ')', '土八路', '!', '总计', '60', '万', '正片', '1', '分', '33'], ['正片', '1', '分', '33', '总计', '60', '万', '土八路', '!', 'lyx', '我', '知道', '你', '在', '看', '观看', 'x44'], ['总计', '60', '万', '土八路', '观看', 'x44', '正片', '1', '分', '33', '土八路', '!'], ['土八路', '!', '正片', '1', '分', '33', '土八路', '观看', 'x44', '不说', '心哥', '这个', '视频', '我', '看', '了', '七八遍', '了', '(', '手动', '滑稽', ')'], ['土八路', '!', '求', '动态', '壁纸', '好', '了', '那么', '今天', '的话', '呢', '正片', '1', '分', '33', 'lyx', '我', '知道', '你', '在', '看'], ['不说', '心哥', '这个', '视频', '我', '看', '了', '七八遍', '了', '(', '手动', '滑稽', ')', '正片', '1', '分', '33', '土八路', '土八路', '!', '好', '了', '那么', '今天', '的话', '呢'], ['好', '了', '那么', '今天', '的话', '呢', '观看', 'x44', '不说', '心哥', '这个', '视频', '我', '看', '了', '七八遍', '了', '(', '手动', '滑稽', ')', '总计', '60', '万', 'lyx', '我', '知道', '你', '在', '看'], ['好', '了', '那么', '今天', '的话', '呢', '观看', 'x44', '正片', '1', '分', '33', '不说', '心哥', '这个', '视频', '我', '看', '了', '七八遍', '了', '(', '手动', '滑稽', ')', 'lyx', '我', '知道', '你', '在', '看'], ['土八路', '失肾', '的', '少年', '咔', '咔', '正片', '1', '分', '33', '求', '动态', '壁纸', '总计', '60', '万'], ['正片', '1', '分', '33', '土八路', '观看', 'x44', '失肾', '的', '少年', '咔', '咔', '不说', '心哥', '这个', '视频', '我', '看', '了', '七八遍', '了', '(', '手动', '滑稽', ')']]\n"
          ],
          "name": "stdout"
        }
      ]
    },
    {
      "cell_type": "code",
      "metadata": {
        "id": "3hepXCkge3kp",
        "colab_type": "code",
        "outputId": "8d774e77-6ed0-44af-a9bb-e96498820b34",
        "colab": {
          "base_uri": "https://localhost:8080/",
          "height": 34
        }
      },
      "source": [
        "M = len(filterLineFeed)\n",
        "print(M)\n"
      ],
      "execution_count": 0,
      "outputs": [
        {
          "output_type": "stream",
          "text": [
            "5000\n"
          ],
          "name": "stdout"
        }
      ]
    },
    {
      "cell_type": "code",
      "metadata": {
        "id": "IFC0UXkZtWx8",
        "colab_type": "code",
        "outputId": "095f23f8-442b-4690-c23c-7923a1335bb7",
        "colab": {
          "base_uri": "https://localhost:8080/",
          "height": 102
        }
      },
      "source": [
        "print('正在建立词典 --')\n",
        "dictionary = corpora.Dictionary(filterLineFeed)\n",
        "V = len(dictionary)\n",
        "print(V)\n",
        "print('正在计算文本向量 --')\n",
        "corpus = [dictionary.doc2bow(text) for text in filterLineFeed]\n",
        "print('正在计算文档TF-IDF --')\n",
        "t_start = time.time()\n",
        "corpus_tfidf = models.TfidfModel(corpus)[corpus]\n",
        "print('建立文档TF-IDF完成，用时%.3f秒' % (time.time() - t_start))"
      ],
      "execution_count": 0,
      "outputs": [
        {
          "output_type": "stream",
          "text": [
            "正在建立词典 --\n",
            "5560\n",
            "正在计算文本向量 --\n",
            "正在计算文档TF-IDF --\n",
            "建立文档TF-IDF完成，用时0.031秒\n"
          ],
          "name": "stdout"
        }
      ]
    },
    {
      "cell_type": "code",
      "metadata": {
        "id": "Noqzusu_vtDD",
        "colab_type": "code",
        "outputId": "ba429433-0e86-45c3-e690-689e9dbf5f33",
        "colab": {
          "base_uri": "https://localhost:8080/",
          "height": 34
        }
      },
      "source": [
        "corpus_tfidf"
      ],
      "execution_count": 0,
      "outputs": [
        {
          "output_type": "execute_result",
          "data": {
            "text/plain": [
              "<gensim.interfaces.TransformedCorpus at 0x7f37079908d0>"
            ]
          },
          "metadata": {
            "tags": []
          },
          "execution_count": 55
        }
      ]
    },
    {
      "cell_type": "code",
      "metadata": {
        "id": "zF_fBY47wasp",
        "colab_type": "code",
        "outputId": "6a711422-2eb3-4ccc-e0a2-f71ac28d1d98",
        "colab": {
          "base_uri": "https://localhost:8080/",
          "height": 173
        }
      },
      "source": [
        "print('\\nLDA Model:')\n",
        "num_topics = 3\n",
        "lda = models.LdaModel(corpus=corpus_tfidf, num_topics=num_topics, id2word=dictionary,\n",
        "                          alpha='auto', eta='auto')\n",
        "lda.show_topics()\n",
        "\n",
        "# doc_topic = [doc_t for doc_t in lda[corpus_tfidf]]\n",
        "# print('Document-Topic:\\n')\n",
        "# pprint(doc_topic)\n",
        "# for doc_topic in lda.get_document_topics(corpus_tfidf):\n",
        "#     print(doc_topic) \n",
        "# for topic_id in range(num_topics):\n",
        "#     print('Topic', topic_id) \n",
        "#     # pprint(lda.get_topic_terms(topicid=topic_id))\n",
        "#     pprint(lda.show_topic(topic_id))\n",
        "# similarity = similarities.MatrixSimilarity(lda[corpus_tfidf])\n",
        "# print('Similarity:')\n",
        "# pprint(list(similarity))"
      ],
      "execution_count": 0,
      "outputs": [
        {
          "output_type": "stream",
          "text": [
            "\n",
            "LDA Model:\n"
          ],
          "name": "stdout"
        },
        {
          "output_type": "execute_result",
          "data": {
            "text/plain": [
              "[(0,\n",
              "  '0.012*\"哈哈哈\" + 0.005*\"了\" + 0.005*\"我\" + 0.005*\"她\" + 0.004*\"你\" + 0.004*\"的\" + 0.004*\"是\" + 0.004*\"护眼\" + 0.004*\"看\" + 0.004*\"看过\"'),\n",
              " (1,\n",
              "  '0.005*\"我\" + 0.005*\"啊\" + 0.005*\"你\" + 0.005*\"是\" + 0.004*\"的\" + 0.004*\"了\" + 0.004*\"不\" + 0.004*\"在\" + 0.004*\"就\" + 0.004*\"这个\"'),\n",
              " (2,\n",
              "  '0.005*\"啊\" + 0.005*\"滚\" + 0.004*\"我\" + 0.004*\"是\" + 0.004*\"的\" + 0.004*\"你\" + 0.004*\"了\" + 0.004*\"这\" + 0.003*\"不\" + 0.003*\"这个\"')]"
            ]
          },
          "metadata": {
            "tags": []
          },
          "execution_count": 57
        }
      ]
    },
    {
      "cell_type": "code",
      "metadata": {
        "id": "NQgynTaTsvTH",
        "colab_type": "code",
        "colab": {}
      },
      "source": [
        "print(M)"
      ],
      "execution_count": 0,
      "outputs": []
    },
    {
      "cell_type": "code",
      "metadata": {
        "id": "kWtQI-B4iPGa",
        "colab_type": "code",
        "colab": {}
      },
      "source": [
        "for line in texts:\n",
        "  while '' in line:\n",
        "    line.remove('')"
      ],
      "execution_count": 0,
      "outputs": []
    },
    {
      "cell_type": "code",
      "metadata": {
        "id": "v27ExrtqLIDQ",
        "colab_type": "code",
        "outputId": "83cc042c-f213-439e-d5d2-ca78ff1f3436",
        "colab": {
          "base_uri": "https://localhost:8080/",
          "height": 122
        }
      },
      "source": [
        "from google.colab import drive\n",
        "drive.mount('/content/drive')"
      ],
      "execution_count": 0,
      "outputs": [
        {
          "output_type": "stream",
          "text": [
            "Go to this URL in a browser: https://accounts.google.com/o/oauth2/auth?client_id=947318989803-6bn6qk8qdgf4n4g3pfee6491hc0brc4i.apps.googleusercontent.com&redirect_uri=urn%3aietf%3awg%3aoauth%3a2.0%3aoob&response_type=code&scope=email%20https%3a%2f%2fwww.googleapis.com%2fauth%2fdocs.test%20https%3a%2f%2fwww.googleapis.com%2fauth%2fdrive%20https%3a%2f%2fwww.googleapis.com%2fauth%2fdrive.photos.readonly%20https%3a%2f%2fwww.googleapis.com%2fauth%2fpeopleapi.readonly\n",
            "\n",
            "Enter your authorization code:\n",
            "··········\n",
            "Mounted at /content/drive\n"
          ],
          "name": "stdout"
        }
      ]
    },
    {
      "cell_type": "code",
      "metadata": {
        "id": "FAZNNIy1jYgU",
        "colab_type": "code",
        "colab": {}
      },
      "source": [
        "for line in texts:\n",
        "  for i in line:\n",
        "    print(type(i))"
      ],
      "execution_count": 0,
      "outputs": []
    },
    {
      "cell_type": "code",
      "metadata": {
        "id": "sn5q0AF6fNB6",
        "colab_type": "code",
        "colab": {}
      },
      "source": [
        "for line in texts:\n",
        "  print(type(line))"
      ],
      "execution_count": 0,
      "outputs": []
    }
  ]
}